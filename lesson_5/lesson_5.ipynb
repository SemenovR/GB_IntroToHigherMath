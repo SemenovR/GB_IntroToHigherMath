{
 "cells": [
  {
   "cell_type": "markdown",
   "metadata": {},
   "source": [
    "# 1.\n",
    "Напишите код, моделирующий выпадение поля в рулетке (с учетом поля зеро)."
   ]
  },
  {
   "cell_type": "markdown",
   "metadata": {},
   "source": [
    "## Решение"
   ]
  },
  {
   "cell_type": "code",
   "execution_count": 2,
   "metadata": {},
   "outputs": [],
   "source": [
    "import numpy as np\n",
    "import matplotlib.pyplot as plt"
   ]
  },
  {
   "cell_type": "code",
   "execution_count": 14,
   "metadata": {},
   "outputs": [
    {
     "name": "stdout",
     "output_type": "stream",
     "text": [
      "4\n",
      "18\n",
      "33\n",
      "34\n",
      "14\n",
      "34\n",
      "33\n",
      "13\n",
      "13\n",
      "16\n"
     ]
    }
   ],
   "source": [
    "for i in range(0, 10):\n",
    "    print(np.random.randint(0, 37))"
   ]
  },
  {
   "cell_type": "markdown",
   "metadata": {},
   "source": [
    "# 2\n",
    "### 1)\n",
    "Напишите код, проверяющий любую из теорем сложения или умножения вероятности на примере рулетки или подбрасывания монетки."
   ]
  },
  {
   "cell_type": "markdown",
   "metadata": {},
   "source": [
    "## Решение"
   ]
  },
  {
   "cell_type": "markdown",
   "metadata": {},
   "source": [
    "Проверим на примере вероятности выпадения зеро или 10.<br>\n",
    "P(0) = 1/37<br>\n",
    "P(10) = 1/37<br>\n",
    "P(0) + P(10) = 1/37 + 1/37 = 2/37 = 0,054054054"
   ]
  },
  {
   "cell_type": "code",
   "execution_count": 10,
   "metadata": {},
   "outputs": [
    {
     "name": "stdout",
     "output_type": "stream",
     "text": [
      "P(0) + P(10) = 0.05382\n"
     ]
    }
   ],
   "source": [
    "c = 100000\n",
    "p = 0\n",
    "for i in range(0, c):\n",
    "    v = np.random.randint(0, 37)\n",
    "    if v == 0 or v == 10:\n",
    "        p += 1\n",
    "        \n",
    "print(\"P(0) + P(10) =\", p/c)"
   ]
  },
  {
   "cell_type": "markdown",
   "metadata": {},
   "source": [
    "### 2)\n",
    "Сгенерируйте десять выборок случайных чисел х0, ..., х9.\n",
    "и постройте гистограмму распределения случайной суммы х0+х1+ ...+ х9."
   ]
  },
  {
   "cell_type": "markdown",
   "metadata": {},
   "source": [
    "## Решение"
   ]
  },
  {
   "cell_type": "code",
   "execution_count": 77,
   "metadata": {},
   "outputs": [],
   "source": [
    "x = []\n",
    "for i in range(0, 10):\n",
    "    x.append(np.random.randint(0, 10, 10).sum())"
   ]
  },
  {
   "cell_type": "code",
   "execution_count": 78,
   "metadata": {},
   "outputs": [
    {
     "data": {
      "image/png": "[encoded data removed]",
      "text/plain": [
       "<Figure size 432x288 with 1 Axes>"
      ]
     },
     "metadata": {
      "needs_background": "light"
     },
     "output_type": "display_data"
    }
   ],
   "source": [
    "plt.hist(x)\n",
    "plt.show()"
   ]
  },
  {
   "cell_type": "markdown",
   "metadata": {},
   "source": [
    "# 3\n",
    "### 1)\n",
    "Дополните код Монте-Карло последовательности независимых испытаний расчетом соответствующих вероятностей (через биномиальное распределение) и сравните результаты."
   ]
  },
  {
   "cell_type": "markdown",
   "metadata": {},
   "source": [
    "## Решение"
   ]
  },
  {
   "cell_type": "code",
   "execution_count": 79,
   "metadata": {},
   "outputs": [],
   "source": [
    "def bernoulli(n, k, p):\n",
    "    return np.math.factorial(n) / (np.math.factorial(k) * np.math.factorial(n - k)) * p**k * (1. - p)**(n - k)"
   ]
  },
  {
   "cell_type": "code",
   "execution_count": 80,
   "metadata": {},
   "outputs": [
    {
     "name": "stdout",
     "output_type": "stream",
     "text": [
      "Теоретическое значение = 0.375\n"
     ]
    }
   ],
   "source": [
    "print(\"Теоретическое значение =\", bernoulli(4, 2, 0.5))"
   ]
  },
  {
   "cell_type": "markdown",
   "metadata": {},
   "source": [
    "Значение похоже на то что получилось на практике"
   ]
  },
  {
   "cell_type": "markdown",
   "metadata": {},
   "source": [
    "### 2)\n",
    "Повторите расчеты биномиальных коэффициентов и вероятностей k успехов в последовательности из n независимых испытаний, взяв другие значения n и k."
   ]
  },
  {
   "cell_type": "markdown",
   "metadata": {},
   "source": [
    "## Решение"
   ]
  },
  {
   "cell_type": "code",
   "execution_count": 81,
   "metadata": {},
   "outputs": [
    {
     "name": "stdout",
     "output_type": "stream",
     "text": [
      "Вероятность выпадания 5 орлов в 10 попытках равна 0.24405\n"
     ]
    }
   ],
   "source": [
    "p, k, n, s = 0, 5, 10, 100000\n",
    "x = np.zeros(s)\n",
    "for i in range(0, n):\n",
    "    x += np.random.randint(0, 2, s)\n",
    "for i in range(0, s):\n",
    "    if x[i] == k:\n",
    "        p += 1\n",
    "        \n",
    "print(f'Вероятность выпадания {k} орлов в {n} попытках равна {p/s}')"
   ]
  },
  {
   "cell_type": "markdown",
   "metadata": {},
   "source": [
    "# 4\n",
    "Из урока по комбинаторике повторите расчеты, сгенерировав возможные варианты перестановок для других значений n и k"
   ]
  },
  {
   "cell_type": "markdown",
   "metadata": {},
   "source": [
    "## Решение"
   ]
  },
  {
   "cell_type": "code",
   "execution_count": 82,
   "metadata": {},
   "outputs": [
    {
     "name": "stdout",
     "output_type": "stream",
     "text": [
      "0123\n",
      "0124\n",
      "0132\n",
      "0134\n",
      "0142\n",
      "0143\n",
      "0213\n",
      "0214\n",
      "0231\n",
      "0234\n",
      "0241\n",
      "0243\n",
      "0312\n",
      "0314\n",
      "0321\n",
      "0324\n",
      "0341\n",
      "0342\n",
      "0412\n",
      "0413\n",
      "0421\n",
      "0423\n",
      "0431\n",
      "0432\n",
      "1023\n",
      "1024\n",
      "1032\n",
      "1034\n",
      "1042\n",
      "1043\n",
      "1203\n",
      "1204\n",
      "1230\n",
      "1234\n",
      "1240\n",
      "1243\n",
      "1302\n",
      "1304\n",
      "1320\n",
      "1324\n",
      "1340\n",
      "1342\n",
      "1402\n",
      "1403\n",
      "1420\n",
      "1423\n",
      "1430\n",
      "1432\n",
      "2013\n",
      "2014\n",
      "2031\n",
      "2034\n",
      "2041\n",
      "2043\n",
      "2103\n",
      "2104\n",
      "2130\n",
      "2134\n",
      "2140\n",
      "2143\n",
      "2301\n",
      "2304\n",
      "2310\n",
      "2314\n",
      "2340\n",
      "2341\n",
      "2401\n",
      "2403\n",
      "2410\n",
      "2413\n",
      "2430\n",
      "2431\n",
      "3012\n",
      "3014\n",
      "3021\n",
      "3024\n",
      "3041\n",
      "3042\n",
      "3102\n",
      "3104\n",
      "3120\n",
      "3124\n",
      "3140\n",
      "3142\n",
      "3201\n",
      "3204\n",
      "3210\n",
      "3214\n",
      "3240\n",
      "3241\n",
      "3401\n",
      "3402\n",
      "3410\n",
      "3412\n",
      "3420\n",
      "3421\n",
      "4012\n",
      "4013\n",
      "4021\n",
      "4023\n",
      "4031\n",
      "4032\n",
      "4102\n",
      "4103\n",
      "4120\n",
      "4123\n",
      "4130\n",
      "4132\n",
      "4201\n",
      "4203\n",
      "4210\n",
      "4213\n",
      "4230\n",
      "4231\n",
      "4301\n",
      "4302\n",
      "4310\n",
      "4312\n",
      "4320\n",
      "4321\n"
     ]
    }
   ],
   "source": [
    "import itertools\n",
    "\n",
    "for p in itertools.permutations('01234', 4):\n",
    "    print(''.join(str(x) for x in p))"
   ]
  },
  {
   "cell_type": "markdown",
   "metadata": {},
   "source": [
    "# 5\n",
    "Дополните код расчетом коэффициента корреляции x и y по формуле\n",
    "$$R = \\frac{\\sum{(x_i - x_m)(y_i - y_m)}}{\\sqrt{\\sum{(x_i - x_m)^2}\\sum{(y_i - y_m)^2}}}$$"
   ]
  },
  {
   "cell_type": "markdown",
   "metadata": {},
   "source": [
    "## Решение"
   ]
  },
  {
   "cell_type": "code",
   "execution_count": 83,
   "metadata": {},
   "outputs": [
    {
     "name": "stdout",
     "output_type": "stream",
     "text": [
      "0.690876923807188 0.1668392825329095\n",
      "0.6908769238071869 0.16683928253291005\n"
     ]
    },
    {
     "name": "stderr",
     "output_type": "stream",
     "text": [
      "/home/roman/anaconda3/lib/python3.7/site-packages/ipykernel_launcher.py:14: FutureWarning: `rcond` parameter will change to the default of machine precision times ``max(M, N)`` where M and N are the input matrix dimensions.\n",
      "To use the future default and silence this warning we advise to pass `rcond=None`, to keep using the old, explicitly pass `rcond=-1`.\n",
      "  \n"
     ]
    },
    {
     "data": {
      "image/png": "[encoded data removed]",
      "text/plain": [
       "<Figure size 432x288 with 1 Axes>"
      ]
     },
     "metadata": {
      "needs_background": "light"
     },
     "output_type": "display_data"
    }
   ],
   "source": [
    "n = 100\n",
    "r = 0.7\n",
    "x = np.random.rand(n)\n",
    "y = r * x + (1 - r) * np.random.rand(n)\n",
    "plt.plot(x, y, 'o')\n",
    "plt.xlabel('x')\n",
    "plt.ylabel('y')\n",
    "plt.grid(True)\n",
    "\n",
    "a = (np.sum(x) * np.sum(y) - n * np.sum(x * y)) / (np.sum(x) * np.sum(x) - n * np.sum(x * x))\n",
    "b = (np.sum(y) - a * np.sum(x)) / n\n",
    "\n",
    "A = np.vstack([x, np.ones(len(x))]).T\n",
    "a1, b1 = np.linalg.lstsq(A, y)[0]\n",
    "print(a, b)\n",
    "print(a1, b1)\n",
    "plt.plot([0, 1], [b, a + b]);\n",
    "plt.show()"
   ]
  },
  {
   "cell_type": "code",
   "execution_count": 84,
   "metadata": {},
   "outputs": [],
   "source": [
    "def r_value(x, y):\n",
    "    return ((x - x.mean()) * (y - y.mean())).sum() / \\\n",
    "            np.sqrt(((x - x.mean()) ** 2).sum() * ((y - y.mean()) ** 2).sum())"
   ]
  },
  {
   "cell_type": "code",
   "execution_count": 85,
   "metadata": {},
   "outputs": [
    {
     "name": "stdout",
     "output_type": "stream",
     "text": [
      "R = 0.9156238750686678\n"
     ]
    }
   ],
   "source": [
    "print('R =', r_value(x, y))"
   ]
  },
  {
   "cell_type": "code",
   "execution_count": null,
   "metadata": {},
   "outputs": [],
   "source": []
  }
 ],
 "metadata": {
  "kernelspec": {
   "display_name": "Python 3",
   "language": "python",
   "name": "python3"
  },
  "language_info": {
   "codemirror_mode": {
    "name": "ipython",
    "version": 3
   },
   "file_extension": ".py",
   "mimetype": "text/x-python",
   "name": "python",
   "nbconvert_exporter": "python",
   "pygments_lexer": "ipython3",
   "version": "3.7.3"
  }
 },
 "nbformat": 4,
 "nbformat_minor": 2
}

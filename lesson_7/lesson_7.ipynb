{
 "cells": [
  {
   "cell_type": "markdown",
   "metadata": {},
   "source": [
    "## Урок 7"
   ]
  },
  {
   "cell_type": "code",
   "execution_count": 163,
   "metadata": {},
   "outputs": [],
   "source": [
    "import numpy as np\n",
    "import scipy\n",
    "import scipy.linalg\n",
    "import matplotlib.pyplot as plt"
   ]
  },
  {
   "cell_type": "markdown",
   "metadata": {},
   "source": [
    "### Практическое задание No5"
   ]
  },
  {
   "cell_type": "markdown",
   "metadata": {},
   "source": [
    "#### 5.1.\n",
    "Вектор – это частный случай матрицы 1хN и Nх1. Повторите материал для векторов, уделяя особое\n",
    "внимание умножению A·B.<br>\n",
    "Вычислите, по возможности не используя программирование: (5Е)–1, где Е – единичная матрица\n",
    "размера 5х5."
   ]
  },
  {
   "cell_type": "markdown",
   "metadata": {},
   "source": [
    "#### Решение"
   ]
  },
  {
   "cell_type": "code",
   "execution_count": 164,
   "metadata": {},
   "outputs": [
    {
     "data": {
      "text/plain": [
       "array([[ 0.2,  0. ,  0. ,  0. ,  0. ],\n",
       "       [ 0. ,  0.2,  0. ,  0. ,  0. ],\n",
       "       [ 0. ,  0. ,  0.2,  0. ,  0. ],\n",
       "       [-0. , -0. , -0. ,  0.2, -0. ],\n",
       "       [ 0. ,  0. ,  0. ,  0. ,  0.2]])"
      ]
     },
     "execution_count": 164,
     "metadata": {},
     "output_type": "execute_result"
    }
   ],
   "source": [
    "np.linalg.inv(np.dot(5, np.eye(5)))"
   ]
  },
  {
   "cell_type": "markdown",
   "metadata": {},
   "source": [
    "#### 5.2.\n",
    "Вычислите определитель:\n",
    "$$\n",
    "\\begin{vmatrix}\n",
    "  1 & 2 & 3 \\\\\n",
    "  4 & 0 & 6 \\\\\n",
    "  7 & 8 & 9 \n",
    "\\end{vmatrix}\n",
    "$$"
   ]
  },
  {
   "cell_type": "markdown",
   "metadata": {},
   "source": [
    "#### Решение"
   ]
  },
  {
   "cell_type": "code",
   "execution_count": 165,
   "metadata": {},
   "outputs": [
    {
     "data": {
      "text/plain": [
       "59.999999999999986"
      ]
     },
     "execution_count": 165,
     "metadata": {},
     "output_type": "execute_result"
    }
   ],
   "source": [
    "A = np.array([[1, 2, 3], \n",
    "              [4, 0, 6], \n",
    "              [7, 8, 9]])\n",
    "np.linalg.det(A)"
   ]
  },
  {
   "cell_type": "markdown",
   "metadata": {},
   "source": [
    "#### 5.3.\n",
    "1. Вычислите матрицу, обратную данной:\n",
    "$$\n",
    "\\begin{vmatrix}\n",
    "  1 & 2 & 3 \\\\\n",
    "  4 & 0 & 6 \\\\\n",
    "  7 & 8 & 9 \n",
    "\\end{vmatrix}\n",
    "$$"
   ]
  },
  {
   "cell_type": "markdown",
   "metadata": {},
   "source": [
    "#### Решение"
   ]
  },
  {
   "cell_type": "code",
   "execution_count": 166,
   "metadata": {},
   "outputs": [
    {
     "data": {
      "text/plain": [
       "array([[-0.8       ,  0.1       ,  0.2       ],\n",
       "       [ 0.1       , -0.2       ,  0.1       ],\n",
       "       [ 0.53333333,  0.1       , -0.13333333]])"
      ]
     },
     "execution_count": 166,
     "metadata": {},
     "output_type": "execute_result"
    }
   ],
   "source": [
    "np.linalg.inv(A)"
   ]
  },
  {
   "cell_type": "markdown",
   "metadata": {},
   "source": [
    "2. Приведите пример матрицы 4х4, ранг которой равен 1."
   ]
  },
  {
   "cell_type": "markdown",
   "metadata": {},
   "source": [
    "#### Решение"
   ]
  },
  {
   "cell_type": "code",
   "execution_count": 167,
   "metadata": {},
   "outputs": [
    {
     "data": {
      "text/plain": [
       "1"
      ]
     },
     "execution_count": 167,
     "metadata": {},
     "output_type": "execute_result"
    }
   ],
   "source": [
    "np.linalg.matrix_rank([[1, 2, 3, 4], \n",
    "                       [10, 20, 30, 40], \n",
    "                       [-1, -2, -3, -4],\n",
    "                       [11, 22, 33, 44]])"
   ]
  },
  {
   "cell_type": "markdown",
   "metadata": {},
   "source": [
    "#### 5.4.\n",
    "Вычислите скалярное произведение двух векторов: (1, 5) и (2, 8)"
   ]
  },
  {
   "cell_type": "markdown",
   "metadata": {},
   "source": [
    "#### Решение"
   ]
  },
  {
   "cell_type": "code",
   "execution_count": 168,
   "metadata": {},
   "outputs": [
    {
     "data": {
      "text/plain": [
       "42"
      ]
     },
     "execution_count": 168,
     "metadata": {},
     "output_type": "execute_result"
    }
   ],
   "source": [
    "np.dot([1, 5], [2, 8])"
   ]
  },
  {
   "cell_type": "markdown",
   "metadata": {},
   "source": [
    "#### 5.5\n",
    "Вычислите смешанное произведение трех векторов: (1, 5, 0), (2, 8, 7) и (7, 1.5, 3)"
   ]
  },
  {
   "cell_type": "markdown",
   "metadata": {},
   "source": [
    "#### Решение"
   ]
  },
  {
   "cell_type": "code",
   "execution_count": 169,
   "metadata": {},
   "outputs": [
    {
     "data": {
      "text/plain": [
       "array([[294.,  63., 126.]])"
      ]
     },
     "execution_count": 169,
     "metadata": {},
     "output_type": "execute_result"
    }
   ],
   "source": [
    "np.outer(np.inner([1, 5, 0], [2, 8, 7]), [7, 1.5, 3])"
   ]
  },
  {
   "cell_type": "markdown",
   "metadata": {},
   "source": [
    "### Практическое задание No6"
   ]
  },
  {
   "cell_type": "markdown",
   "metadata": {},
   "source": [
    "#### 1. \n",
    "Решите линейную систему:\n",
    "$$\n",
    "\\begin{bmatrix}\n",
    "  1 & 2 & 3 \\\\\n",
    "  4 & 0 & 6 \\\\\n",
    "  7 & 8 & 9 \n",
    "\\end{bmatrix}\n",
    "\\cdot X = \\begin{bmatrix}\n",
    "  12 \\\\\n",
    "  2 \\\\\n",
    "  1  \n",
    "\\end{bmatrix}\n",
    "$$"
   ]
  },
  {
   "cell_type": "markdown",
   "metadata": {},
   "source": [
    "#### Решение"
   ]
  },
  {
   "cell_type": "code",
   "execution_count": 170,
   "metadata": {},
   "outputs": [
    {
     "data": {
      "text/plain": [
       "array([-9.2       ,  0.9       ,  6.46666667])"
      ]
     },
     "execution_count": 170,
     "metadata": {},
     "output_type": "execute_result"
    }
   ],
   "source": [
    "np.linalg.solve([[1, 2, 3], \n",
    "                 [4, 0, 6], \n",
    "                 [7, 8, 9]], \n",
    "                [12, 2, 1])"
   ]
  },
  {
   "cell_type": "markdown",
   "metadata": {},
   "source": [
    "#### 2.\n",
    "Найдите псевдорешение:<br>\n",
    "x + 2y – z = 1<br>\n",
    "3x – 4y = 7<br>\n",
    "8x – 5y + 2z = 12<br>\n",
    "2x – 5z = 7<br>\n",
    "11x +4y – 7z = 15<br>"
   ]
  },
  {
   "cell_type": "markdown",
   "metadata": {},
   "source": [
    "#### Решение"
   ]
  },
  {
   "cell_type": "code",
   "execution_count": 171,
   "metadata": {},
   "outputs": [
    {
     "data": {
      "text/plain": [
       "array([ 1.13919353, -0.90498444, -0.9009803 ])"
      ]
     },
     "execution_count": 171,
     "metadata": {},
     "output_type": "execute_result"
    }
   ],
   "source": [
    "A = np.array([[1, 2, -1], \n",
    "              [3, -4, 0], \n",
    "              [8, -5, 2], \n",
    "              [2, 0, -5], \n",
    "              [11, 4, -7]])\n",
    "\n",
    "B = np.array([1, 7, 12, 7, 15])\n",
    "\n",
    "np.linalg.lstsq(A, B, rcond=None)[0]"
   ]
  },
  {
   "cell_type": "markdown",
   "metadata": {},
   "source": [
    "#### 3.\n",
    "Сколько решений имеет линейная система:\n",
    "$$\n",
    "\\begin{bmatrix}\n",
    "  1 & 2 & 3 \\\\\n",
    "  4 & 5 & 6 \\\\\n",
    "  7 & 8 & 9 \n",
    "\\end{bmatrix}\n",
    "\\cdot X = \\begin{bmatrix}\n",
    "  12 \\\\\n",
    "  2 \\\\\n",
    "  1  \n",
    "\\end{bmatrix}\n",
    "$$\n",
    "Если ноль – то измените вектор правой части так, чтобы система стала совместной, и решите ее."
   ]
  },
  {
   "cell_type": "markdown",
   "metadata": {},
   "source": [
    "#### Решение"
   ]
  },
  {
   "cell_type": "code",
   "execution_count": 172,
   "metadata": {},
   "outputs": [
    {
     "name": "stdout",
     "output_type": "stream",
     "text": [
      "Детерминант матрицы = -9.51619735392994e-16\n",
      "Ранг матрицы = 2\n",
      "Ранг расширеной матрицы = 3\n"
     ]
    }
   ],
   "source": [
    "A = np.array([[1, 2, 3], \n",
    "              [4, 5, 6], \n",
    "              [7, 8, 9]])\n",
    "\n",
    "B = np.array([12, 2, 1])\n",
    "\n",
    "print('Детерминант матрицы =', np.linalg.det(A))\n",
    "print('Ранг матрицы =', np.linalg.matrix_rank(A))\n",
    "print('Ранг расширеной матрицы =', np.linalg.matrix_rank(np.concatenate((A, B.reshape(1, 3).T), axis=1)))"
   ]
  },
  {
   "cell_type": "markdown",
   "metadata": {},
   "source": [
    "Т.е. ранг матрицы не равен рангу расширенной матрицы, то система не совместна"
   ]
  },
  {
   "cell_type": "code",
   "execution_count": 173,
   "metadata": {},
   "outputs": [
    {
     "name": "stdout",
     "output_type": "stream",
     "text": [
      "Детерминант матрицы = -9.51619735392994e-16\n",
      "Ранг матрицы = 2\n",
      "Ранг расширеной матрицы = 2\n"
     ]
    }
   ],
   "source": [
    "B = np.array([10, 10, 10])\n",
    "\n",
    "print('Детерминант матрицы =', np.linalg.det(A))\n",
    "print('Ранг матрицы =', np.linalg.matrix_rank(A))\n",
    "print('Ранг расширеной матрицы =', np.linalg.matrix_rank(np.concatenate((A, B.reshape(1, 3).T), axis=1)))"
   ]
  },
  {
   "cell_type": "markdown",
   "metadata": {},
   "source": [
    "Теперь матрица совместна, но имеет множество решений, т.к. ранг меньше размера матрицы. Поэтому найдём псевдорешение."
   ]
  },
  {
   "cell_type": "code",
   "execution_count": 174,
   "metadata": {},
   "outputs": [
    {
     "data": {
      "text/plain": [
       "array([-5.00000000e+00,  2.93209928e-15,  5.00000000e+00])"
      ]
     },
     "execution_count": 174,
     "metadata": {},
     "output_type": "execute_result"
    }
   ],
   "source": [
    "np.linalg.lstsq(A, B, rcond=None)[0]"
   ]
  },
  {
   "cell_type": "markdown",
   "metadata": {},
   "source": [
    "#### 4.\n",
    "Вычислите LU-разложение матрицы :\n",
    "$$\n",
    "\\begin{bmatrix}\n",
    "  1 & 2 & 3 \\\\\n",
    "  2 & 16 & 21 \\\\\n",
    "  4 & 28 & 73 \n",
    "\\end{bmatrix}\n",
    "$$    \n",
    "После этого придумайте вектор правых частей и решите полученную линейную систему трех\n",
    "уравнений с данной матрицей."
   ]
  },
  {
   "cell_type": "markdown",
   "metadata": {},
   "source": [
    "#### Решение"
   ]
  },
  {
   "cell_type": "code",
   "execution_count": 175,
   "metadata": {},
   "outputs": [
    {
     "name": "stdout",
     "output_type": "stream",
     "text": [
      "P =\n",
      " [[0. 1. 0.]\n",
      " [0. 0. 1.]\n",
      " [1. 0. 0.]]\n",
      "L =\n",
      " [[ 1.    0.    0.  ]\n",
      " [ 0.25  1.    0.  ]\n",
      " [ 0.5  -0.4   1.  ]]\n",
      "U =\n",
      " [[  4.    28.    73.  ]\n",
      " [  0.    -5.   -15.25]\n",
      " [  0.     0.   -21.6 ]]\n"
     ]
    }
   ],
   "source": [
    "A = np.array([[1, 2, 3], \n",
    "              [2, 16, 21], \n",
    "              [4, 28, 73]])\n",
    "\n",
    "P, L, U = scipy.linalg.lu(A)\n",
    "\n",
    "print(\"P =\\n\", P)\n",
    "print(\"L =\\n\", L)\n",
    "print(\"U =\\n\", U)"
   ]
  },
  {
   "cell_type": "code",
   "execution_count": 176,
   "metadata": {},
   "outputs": [],
   "source": [
    "B = np.array([10, 10, 10])"
   ]
  },
  {
   "cell_type": "code",
   "execution_count": 177,
   "metadata": {},
   "outputs": [
    {
     "name": "stdout",
     "output_type": "stream",
     "text": [
      "Детерминант матрицы = 432.00000000000017\n",
      "Ранг матрицы = 3\n",
      "Ранг расширеной матрицы = 3\n"
     ]
    }
   ],
   "source": [
    "print('Детерминант матрицы =', np.linalg.det(A))\n",
    "print('Ранг матрицы =', np.linalg.matrix_rank(A))\n",
    "print('Ранг расширеной матрицы =', np.linalg.matrix_rank(np.concatenate((A, B.reshape(1, 3).T), axis=1)))"
   ]
  },
  {
   "cell_type": "markdown",
   "metadata": {},
   "source": [
    "Система имеет единственное решение. Найдём его"
   ]
  },
  {
   "cell_type": "code",
   "execution_count": 178,
   "metadata": {},
   "outputs": [
    {
     "data": {
      "text/plain": [
       "array([11.85185185, -0.37037037, -0.37037037])"
      ]
     },
     "execution_count": 178,
     "metadata": {},
     "output_type": "execute_result"
    }
   ],
   "source": [
    "np.linalg.solve(np.dot(L, U), B)"
   ]
  },
  {
   "cell_type": "markdown",
   "metadata": {},
   "source": [
    "#### 5.\n",
    "Найдите нормальное псевдорешение недоопределенной системы:<br>\n",
    "x + 2y – z = 1<br>\n",
    "8x – 5y + 2z = 12<br>\n",
    "Для этого определите функцию Q(x,y,z), равную норме решения, и найдите ее минимум."
   ]
  },
  {
   "cell_type": "markdown",
   "metadata": {},
   "source": [
    "#### Решение"
   ]
  },
  {
   "cell_type": "code",
   "execution_count": 179,
   "metadata": {},
   "outputs": [],
   "source": [
    "def Q(x, y, z):\n",
    "    return x**2 + y**2 + z**2"
   ]
  },
  {
   "cell_type": "markdown",
   "metadata": {},
   "source": [
    "Выразив y и z через x получаем"
   ]
  },
  {
   "cell_type": "code",
   "execution_count": 180,
   "metadata": {},
   "outputs": [
    {
     "data": {
      "image/png": "[encoded data removed]",
      "text/plain": [
       "<Figure size 432x288 with 1 Axes>"
      ]
     },
     "metadata": {
      "needs_background": "light"
     },
     "output_type": "display_data"
    }
   ],
   "source": [
    "x = np.linspace(-1, 5, 201)\n",
    "plt.plot(x, Q(x, 10 * x - 14, 21 * x - 29))\n",
    "plt.xlabel('x')\n",
    "plt.ylabel('y')\n",
    "plt.grid(True)\n",
    "plt.show()"
   ]
  },
  {
   "cell_type": "code",
   "execution_count": 186,
   "metadata": {},
   "outputs": [
    {
     "data": {
      "text/plain": [
       "array([ 1.38191882, -0.18081181,  0.0202952 ])"
      ]
     },
     "execution_count": 186,
     "metadata": {},
     "output_type": "execute_result"
    }
   ],
   "source": [
    "A = np.array([[1, 2, -1], \n",
    "              [8, -5, 2]])\n",
    "\n",
    "B = np.array([1, 12])\n",
    "\n",
    "np.linalg.lstsq(A, B, rcond=None)[0]"
   ]
  },
  {
   "cell_type": "markdown",
   "metadata": {},
   "source": [
    "#### 6.\n",
    "Найдите одно из псевдорешений вырожденной системы:\n",
    "$$\n",
    "\\begin{bmatrix}\n",
    "  1 & 2 & 3 \\\\\n",
    "  4 & 5 & 6 \\\\\n",
    "  7 & 8 & 9 \n",
    "\\end{bmatrix}\n",
    "\\cdot X = \\begin{bmatrix}\n",
    "  2 \\\\\n",
    "  5 \\\\\n",
    "  11  \n",
    "\\end{bmatrix}\n",
    "$$   \n",
    "Попробуйте также отыскать и нормальное псевдорешение."
   ]
  },
  {
   "cell_type": "markdown",
   "metadata": {},
   "source": [
    "#### Решение"
   ]
  },
  {
   "cell_type": "code",
   "execution_count": 182,
   "metadata": {},
   "outputs": [],
   "source": [
    "A = np.array([[1, 2, 3],\n",
    "              [4, 5, 6],\n",
    "              [7, 8, 9]])\n",
    "\n",
    "B = np.array([2, 5, 11])"
   ]
  },
  {
   "cell_type": "code",
   "execution_count": 183,
   "metadata": {},
   "outputs": [
    {
     "name": "stdout",
     "output_type": "stream",
     "text": [
      "Детерминант матрицы = -9.51619735392994e-16\n",
      "Ранг матрицы = 2\n",
      "Ранг расширеной матрицы = 3\n"
     ]
    }
   ],
   "source": [
    "print('Детерминант матрицы =', np.linalg.det(A))\n",
    "print('Ранг матрицы =', np.linalg.matrix_rank(A))\n",
    "print('Ранг расширеной матрицы =', np.linalg.matrix_rank(np.concatenate((A, B.reshape(1, 3).T), axis=1)))"
   ]
  },
  {
   "cell_type": "code",
   "execution_count": 184,
   "metadata": {},
   "outputs": [
    {
     "name": "stdout",
     "output_type": "stream",
     "text": [
      "[1.50000000e+00 9.45096256e-15 0.00000000e+00]\n"
     ]
    }
   ],
   "source": [
    "Q, R = np.linalg.qr(A)\n",
    "\n",
    "R1 = R[:2, :2]\n",
    "B1 = np.dot(np.transpose(Q), B)[:2]\n",
    "X1 = np.linalg.solve(R1, B1)\n",
    "X = np.append(X1, 0)\n",
    "print(X)"
   ]
  },
  {
   "cell_type": "code",
   "execution_count": 185,
   "metadata": {},
   "outputs": [
    {
     "data": {
      "text/plain": [
       "array([ 1.25,  0.5 , -0.25])"
      ]
     },
     "execution_count": 185,
     "metadata": {},
     "output_type": "execute_result"
    }
   ],
   "source": [
    "np.linalg.lstsq(A, B, rcond=None)[0]"
   ]
  },
  {
   "cell_type": "code",
   "execution_count": null,
   "metadata": {},
   "outputs": [],
   "source": []
  }
 ],
 "metadata": {
  "kernelspec": {
   "display_name": "Python 3",
   "language": "python",
   "name": "python3"
  },
  "language_info": {
   "codemirror_mode": {
    "name": "ipython",
    "version": 3
   },
   "file_extension": ".py",
   "mimetype": "text/x-python",
   "name": "python",
   "nbconvert_exporter": "python",
   "pygments_lexer": "ipython3",
   "version": "3.7.3"
  }
 },
 "nbformat": 4,
 "nbformat_minor": 2
}
